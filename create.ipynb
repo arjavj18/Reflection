{
 "cells": [
  {
   "cell_type": "code",
   "execution_count": 1,
   "metadata": {},
   "outputs": [
    {
     "name": "stdout",
     "output_type": "stream",
     "text": [
      "Data imported successfully.\n"
     ]
    }
   ],
   "source": [
    "import yaml\n",
    "from py2neo import Graph\n",
    "from dotenv import load_dotenv\n",
    "import os\n",
    "\n",
    "# Load environment variables\n",
    "load_dotenv()\n",
    "neo4j_password = os.getenv('NEO4J_PASSWORD')\n",
    "\n",
    "# Load YAML data from file\n",
    "with open('agents.yaml', 'r') as file:\n",
    "    data = yaml.safe_load(file)\n",
    "\n",
    "# Connect to the Neo4j database\n",
    "graph = Graph(\"neo4j://localhost:7687\", auth=(\"neo4j\", neo4j_password))\n",
    "\n",
    "# Clear existing data (optional, be cautious with this)\n",
    "graph.run(\"MATCH (n) DETACH DELETE n\")\n",
    "\n",
    "# Create nodes and relationships based on the YAML file\n",
    "for node, properties in data.items():\n",
    "    name = properties['Name']\n",
    "    desc = properties['Desc']\n",
    "    parents = properties['parent']\n",
    "\n",
    "    # Create the node\n",
    "    query = f\"CREATE (n:{name} {{Name: '{name}', Desc: '{desc}'}})\"\n",
    "    graph.run(query)\n",
    "\n",
    "    # Handle parent relationships\n",
    "    if parents and parents != []:\n",
    "        for parent in parents:\n",
    "            # Create relationships with parent\n",
    "            parent_query = f\"MATCH (p:{parent}), (c:{name}) CREATE (p)-[:PARENT_OF]->(c)\"\n",
    "            graph.run(parent_query)\n",
    "            child_query = f\"MATCH (p:{parent}), (c:{name}) CREATE (c)-[:CHILD_OF]->(p)\"\n",
    "            graph.run(child_query)\n",
    "\n",
    "print(\"Data imported successfully.\")"
   ]
  },
  {
   "cell_type": "markdown",
   "metadata": {},
   "source": []
  }
 ],
 "metadata": {
  "kernelspec": {
   "display_name": "env",
   "language": "python",
   "name": "python3"
  },
  "language_info": {
   "codemirror_mode": {
    "name": "ipython",
    "version": 3
   },
   "file_extension": ".py",
   "mimetype": "text/x-python",
   "name": "python",
   "nbconvert_exporter": "python",
   "pygments_lexer": "ipython3",
   "version": "3.12.4"
  }
 },
 "nbformat": 4,
 "nbformat_minor": 2
}
