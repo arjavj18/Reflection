{
 "cells": [
  {
   "cell_type": "code",
   "execution_count": 91,
   "metadata": {},
   "outputs": [
    {
     "data": {
      "text/plain": [
       "True"
      ]
     },
     "execution_count": 91,
     "metadata": {},
     "output_type": "execute_result"
    }
   ],
   "source": [
    "from langchain.agents import create_tool_calling_agent\n",
    "from langchain.agents.agent_types import AgentType\n",
    "from langchain.chains import LLMMathChain\n",
    "from langchain.tools import Tool\n",
    "from langchain_core.prompts import ChatPromptTemplate\n",
    "from dotenv import load_dotenv\n",
    "load_dotenv('.env')"
   ]
  },
  {
   "cell_type": "code",
   "execution_count": 92,
   "metadata": {},
   "outputs": [],
   "source": [
    "import os\n",
    "import openai\n",
    "\n",
    "OPENAI_API_KEY = os.environ.get('OPENAI_API_KEY')\n",
    "openai.api_key = OPENAI_API_KEY\n",
    "os.environ[\"OPENAI_API_KEY\"] = OPENAI_API_KEY\n",
    "TAVILY_API_KEY = os.getenv('TAVILY_API_KEY')"
   ]
  },
  {
   "cell_type": "code",
   "execution_count": 93,
   "metadata": {},
   "outputs": [],
   "source": [
    "from langchain_community.tools.tavily_search import TavilySearchResults"
   ]
  },
  {
   "cell_type": "code",
   "execution_count": 94,
   "metadata": {},
   "outputs": [],
   "source": [
    "search = TavilySearchResults(tavily_api_key = TAVILY_API_KEY)"
   ]
  },
  {
   "cell_type": "code",
   "execution_count": 95,
   "metadata": {},
   "outputs": [],
   "source": [
    "from langchain_openai import ChatOpenAI\n",
    "\n",
    "llm = ChatOpenAI(model=\"gpt-3.5-turbo-0125\", temperature=0, openai_api_key=OPENAI_API_KEY)"
   ]
  },
  {
   "cell_type": "code",
   "execution_count": 96,
   "metadata": {},
   "outputs": [],
   "source": [
    "# Agent 1: Generally good at math questions\n",
    "math_prompt=ChatPromptTemplate.from_messages(\n",
    "    [\n",
    "        (\n",
    "            \"system\",\n",
    "            \"You are a highly skilled assistant with expertise in solving math problems. Ensure accurate calculations and provide clear explanations for mathematical concepts. Use the tavily_search_results_json tool for additional information if needed.\",\n",
    "        ),\n",
    "        (\"placeholder\", \"{chat_history}\"),\n",
    "        (\"human\", \"{input}\"),\n",
    "        (\"placeholder\", \"{agent_scratchpad}\"),\n",
    "    ]\n",
    ")\n",
    "\n",
    "\n",
    "agent1 = create_tool_calling_agent(\n",
    "    llm=llm,\n",
    "    tools=[search],\n",
    "    prompt=math_prompt,\n",
    ")"
   ]
  },
  {
   "cell_type": "code",
   "execution_count": 97,
   "metadata": {},
   "outputs": [],
   "source": [
    "# Agent 2: Uses a tool for better computations\n",
    "# from langchain_community.tools import WikipediaQueryRun\n",
    "# from langchain_community.utilities import WikipediaAPIWrapper\n",
    "\n",
    "# wikipedia = WikipediaQueryRun(api_wrapper=WikipediaAPIWrapper())\n",
    "\n",
    "\n",
    "\n",
    "\n",
    "tool_prompt=ChatPromptTemplate.from_messages(\n",
    "    [\n",
    "        (\n",
    "            \"system\",\n",
    "            \"You are an AI assistant with access to powerful tools for calculations. Use these calculation tools when you need to perform precise calculations. \",\n",
    "        ),\n",
    "        (\"placeholder\", \"{chat_history}\"),\n",
    "        (\"human\", \"{input}\"),\n",
    "        (\"placeholder\", \"{agent_scratchpad}\"),\n",
    "    ]\n",
    ")"
   ]
  },
  {
   "cell_type": "code",
   "execution_count": 98,
   "metadata": {},
   "outputs": [],
   "source": [
    "agent11 = create_tool_calling_agent(\n",
    "    llm=llm,\n",
    "    tools=[search],\n",
    "    prompt=tool_prompt,\n",
    ")"
   ]
  },
  {
   "cell_type": "code",
   "execution_count": 99,
   "metadata": {},
   "outputs": [],
   "source": [
    "math_question = \"What is the square root of 256 multiplied by 2?\""
   ]
  },
  {
   "cell_type": "code",
   "execution_count": 100,
   "metadata": {},
   "outputs": [
    {
     "name": "stdout",
     "output_type": "stream",
     "text": [
      "\n",
      "\n",
      "\u001b[1m> Entering new AgentExecutor chain...\u001b[0m\n",
      "\u001b[32;1m\u001b[1;3m\n",
      "Invoking: `tavily_search_results_json` with `{'query': 'square root of 256'}`\n",
      "\n",
      "\n",
      "\u001b[0m\u001b[36;1m\u001b[1;3m[{'url': 'https://byjus.com/maths/square-root-of-256/', 'content': 'Learn how to find the square root of 256 using prime factorisation, long division and repeated subtraction methods. The square root of 256 is 16 and it is a perfect square number.'}, {'url': 'https://socratic.org/questions/what-is-the-square-root-of-256', 'content': 'Learn how to find the square root of 256 using algebra and geometry. The web page explains the definition of principal square root and gives examples of positive and negative square roots of 256.'}, {'url': 'https://www.cuemath.com/algebra/square-root-of-256/', 'content': 'Learn how to find the square root of 256 using prime factorization and long division methods. Also, explore the properties, applications and challenging questions of square roots with interactive examples.'}, {'url': 'https://squarerootcalculator.com/square-root-of-256/', 'content': 'Learn what is the square root of 256 and how to calculate it by finding the number that multiplied by itself gives 256. Also, see how to use the SQRT () function in Excel or Google Sheets to get the square root of any number.'}, {'url': 'https://square-root.net/square-root-of-256', 'content': 'Learn what the square root of 256 is, how to find it, and what its inverse is. See the value, symbol, and properties of the second root of 256, as well as the n-th roots of 256 for n = 2 to 10.'}]\u001b[0m\u001b[32;1m\u001b[1;3m\n",
      "Invoking: `tavily_search_results_json` with `{'query': 'square root of 256 multiplied by 2'}`\n",
      "\n",
      "\n",
      "\u001b[0m\u001b[36;1m\u001b[1;3m[{'url': 'https://www.cuemath.com/algebra/square-root-of-256/', 'content': 'Square Root of 256 by Prime factorization method. Step 1: Determine the prime factors using prime factorization. Prime factorization of 256 = 2 × 2 × 2 × 2 × 2 × 2 × 2 × 2. Step 2. Group the prime factors obtained for 256 in pairs. Step 3. Pick one factor from each pair and they can be written in the form: 256 = (2 × 2 × 2 × 2) 2.'}, {'url': 'https://square-root.net/square-root-of-256', 'content': 'Summary. To sum up, the square roots of 256 are ±16; the positive real value is the principal. Finding the second root of the number 256 is the inverse operation of rising the ²√256 to the power of 2. That is to say, (±16) 2 = 256. Further information about the root of a number like ²√256 can be found on our page n-th Root.'}, {'url': 'https://rootcalculation.com/square-root-of-256/', 'content': 'Pick two factors that multiply together to give 256. In this case, we can pick 6 and 6. Add the two factors together: 16 + 16 = 32. Divide the sum by 2: 32 / 2 = 16. Therefore, the square root of 256 is 16. How to calculate the square root of √256 ? To find square root, first we have to list factors of the number.'}, {'url': 'https://byjus.com/maths/square-root-of-256/', 'content': 'The Square root of 256 = √256 where √ = radical, and 256 is the radicand. Exponential Form of Square root of 256 = 256 1/2. Solution for √256 = 16. Square root of 256 is Irrational = False. For the detailed explanation on square roots can be obtained from Square Root.'}, {'url': 'https://www.symbolab.com/solver/square-root-calculator', 'content': 'Free Square Root calculator - Find square roots of any number step-by-step'}]\u001b[0m\u001b[32;1m\u001b[1;3mThe square root of 256 is 16. \n",
      "\n",
      "Now, to find the result of the square root of 256 multiplied by 2, we simply multiply 16 by 2:\n",
      "\n",
      "\\(16 \\times 2 = 32\\)\n",
      "\n",
      "Therefore, the square root of 256 multiplied by 2 is 32.\u001b[0m\n",
      "\n",
      "\u001b[1m> Finished chain.\u001b[0m\n"
     ]
    },
    {
     "data": {
      "text/plain": [
       "{'input': 'What is the square root of 256 multiplied by 2?',\n",
       " 'output': 'The square root of 256 is 16. \\n\\nNow, to find the result of the square root of 256 multiplied by 2, we simply multiply 16 by 2:\\n\\n\\\\(16 \\\\times 2 = 32\\\\)\\n\\nTherefore, the square root of 256 multiplied by 2 is 32.'}"
      ]
     },
     "execution_count": 100,
     "metadata": {},
     "output_type": "execute_result"
    }
   ],
   "source": [
    "from langchain.agents import AgentExecutor\n",
    "\n",
    "agent_executor1 = AgentExecutor(agent=agent1, tools = [search], verbose=True)\n",
    "agent_executor1.invoke({\"input\": math_question})"
   ]
  },
  {
   "cell_type": "code",
   "execution_count": 101,
   "metadata": {},
   "outputs": [
    {
     "name": "stdout",
     "output_type": "stream",
     "text": [
      "\n",
      "\n",
      "\u001b[1m> Entering new AgentExecutor chain...\u001b[0m\n",
      "\u001b[32;1m\u001b[1;3m\n",
      "Invoking: `tavily_search_results_json` with `{'query': 'square root of 256'}`\n",
      "\n",
      "\n",
      "\u001b[0m\u001b[36;1m\u001b[1;3m[{'url': 'https://byjus.com/maths/square-root-of-256/', 'content': 'Learn how to find the square root of 256 using prime factorisation, long division and repeated subtraction methods. The square root of 256 is 16 and it is a perfect square number.'}, {'url': 'https://hellothinkster.com/math-questions/square-roots/square-root-of-256', 'content': 'Learn how to find the square root of 256 using perfect squares or long division. The square root of 256 is 16, a whole number and a rational number.'}, {'url': 'https://www.cuemath.com/algebra/square-root-of-256/', 'content': 'Learn how to find the square root of 256 using prime factorization and long division methods. Also, explore the properties, applications and challenging questions of square roots with interactive examples.'}, {'url': 'https://www.wolframalpha.com/input?i=square+root+of+256', 'content': 'Wolfram|Alpha shows the natural and decimal forms of the square root of 256, as well as its trigonometric form and plot in the complex plane. It also provides a step-by-step solution and a number line for the input.'}, {'url': 'https://squarerootcalculator.com/square-root-of-256/', 'content': 'Learn what is the square root of 256 and how to calculate it by finding the number that multiplied by itself gives 256. Also, see how to use the SQRT () function in Excel or Google Sheets to get the square root of any number.'}]\u001b[0m\u001b[32;1m\u001b[1;3m\n",
      "Invoking: `tavily_search_results_json` with `{'query': 'square root of 256 * 2'}`\n",
      "\n",
      "\n",
      "\u001b[0m\u001b[36;1m\u001b[1;3m[{'url': 'https://www.cuemath.com/algebra/square-root-of-256/', 'content': 'Square Root of 256. The square root of 256 is expressed as √256 in the radical form and as (256) ½ or (256) 0.5 in the exponent form. The square root of 256 is 16. It is the positive solution of the equation x 2 = 256. The number 256 is a perfect square. Square Root of 256: 16.'}, {'url': 'https://byjus.com/maths/square-root-of-256/', 'content': 'The Square root of 256 = √256 where √ = radical, and 256 is the radicand. Exponential Form of Square root of 256 = 256 1/2. Solution for √256 = 16. Square root of 256 is Irrational = False. For the detailed explanation on square roots can be obtained from Square Root.'}, {'url': 'https://www.wolframalpha.com/input?i=square+root+of+256', 'content': \"square root of 256. Natural Language; Math Input; Extended Keyboard Examples Upload Random. Compute answers using Wolfram's breakthrough technology & knowledgebase, relied on by millions of students & professionals. For math, science, nutrition, history, geography, engineering, mathematics, linguistics, sports, finance, music…\"}, {'url': 'https://www.squarerootcalculator.pro/256', 'content': \"What is square root? Definition of square root. A square root of a number 'x' is a number y such that y 2 = x, in other words, a number y whose square is y. For example, 16 is the square root of 256 because 16 2 = 16•16 = 256, -16 is square root of 256 because (-16) 2 = (-16)•(-16) = 256. When writing math, people often use sqrt(x) to mean ...\"}, {'url': 'https://www.symbolab.com/solver/algebra-calculator/\\\\sqrt{256}?or=input', 'content': \"The Algebra Calculator is a versatile online tool designed to simplify algebraic problem-solving for users of all levels. Here's how to make the most of it: Begin by typing your algebraic expression into the above input field, or scanning the problem with your camera. After entering the equation, click the 'Go' button to generate instant solutions.\"}]\u001b[0m\u001b[32;1m\u001b[1;3mThe square root of 256 is 16. \n",
      "\n",
      "Therefore, the square root of 256 multiplied by 2 is \\(16 \\times 2 = 32\\). \n",
      "\n",
      "So, the result is 32.\u001b[0m\n",
      "\n",
      "\u001b[1m> Finished chain.\u001b[0m\n"
     ]
    },
    {
     "data": {
      "text/plain": [
       "{'input': 'What is the square root of 256 multiplied by 2?',\n",
       " 'output': 'The square root of 256 is 16. \\n\\nTherefore, the square root of 256 multiplied by 2 is \\\\(16 \\\\times 2 = 32\\\\). \\n\\nSo, the result is 32.'}"
      ]
     },
     "execution_count": 101,
     "metadata": {},
     "output_type": "execute_result"
    }
   ],
   "source": [
    "agent_executor11 = AgentExecutor(agent=agent11, tools = [search], verbose=True)\n",
    "agent_executor11.invoke({\"input\": math_question})"
   ]
  }
 ],
 "metadata": {
  "kernelspec": {
   "display_name": "venv",
   "language": "python",
   "name": "python3"
  },
  "language_info": {
   "codemirror_mode": {
    "name": "ipython",
    "version": 3
   },
   "file_extension": ".py",
   "mimetype": "text/x-python",
   "name": "python",
   "nbconvert_exporter": "python",
   "pygments_lexer": "ipython3",
   "version": "3.12.4"
  }
 },
 "nbformat": 4,
 "nbformat_minor": 2
}
