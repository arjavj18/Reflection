{
 "cells": [
  {
   "cell_type": "code",
   "execution_count": 248,
   "metadata": {},
   "outputs": [],
   "source": [
    "from py2neo import Graph\n",
    "from dotenv import load_dotenv\n",
    "import os\n",
    "\n",
    "# Load environment variables\n",
    "load_dotenv()\n",
    "neo4j_password = os.getenv('NEO4J_PASSWORD')"
   ]
  },
  {
   "cell_type": "code",
   "execution_count": 249,
   "metadata": {},
   "outputs": [],
   "source": [
    "graph = Graph(\"neo4j://localhost:7687\", auth=(\"neo4j\", neo4j_password))"
   ]
  },
  {
   "cell_type": "code",
   "execution_count": 250,
   "metadata": {},
   "outputs": [],
   "source": [
    "def get_connected_nodes(node_name):\n",
    "    # Define the Cypher query to find connected nodes and return both Name and Desc properties\n",
    "    query = \"\"\"\n",
    "    MATCH (n {Name: $node_name})-[:PARENT_OF]-(connected_nodes)\n",
    "    RETURN connected_nodes.Name AS name, connected_nodes.Desc AS desc\n",
    "    \"\"\"\n",
    "    \n",
    "    # Execute the query\n",
    "    results = graph.run(query, node_name=node_name)\n",
    "    \n",
    "    # Extract the Name and Desc of each connected node\n",
    "    connected_nodes_info = []\n",
    "    for record in results:\n",
    "        name = record[\"name\"]\n",
    "        desc = record[\"desc\"]\n",
    "        connected_nodes_info.append({\"Name\": name, \"Desc\": desc})\n",
    "    \n",
    "    return connected_nodes_info"
   ]
  },
  {
   "cell_type": "code",
   "execution_count": 251,
   "metadata": {},
   "outputs": [
    {
     "data": {
      "text/plain": [
       "True"
      ]
     },
     "execution_count": 251,
     "metadata": {},
     "output_type": "execute_result"
    }
   ],
   "source": [
    "from dotenv import load_dotenv\n",
    "import os \n",
    "load_dotenv('.env')"
   ]
  },
  {
   "cell_type": "code",
   "execution_count": 252,
   "metadata": {},
   "outputs": [],
   "source": [
    "from langchain_community.tools.tavily_search import TavilySearchResults\n",
    "from langchain_core.prompts import ChatPromptTemplate\n"
   ]
  },
  {
   "cell_type": "code",
   "execution_count": 253,
   "metadata": {},
   "outputs": [],
   "source": [
    "from langchain.output_parsers import ResponseSchema, StructuredOutputParser\n",
    "\n",
    "response_schemas = [\n",
    "    ResponseSchema(name=\"current_output\", description=\"Output from the current agent that will be passed to the next agent. If there is no next agent, put None\"),\n",
    "    ResponseSchema(name=\"next_agent\", description=\"The next agent to handle the request.\"),\n",
    "    ResponseSchema(name=\"next_task\", description=\"The task or action for the next agent.\"),\n",
    "]\n",
    "\n",
    "output_parser = StructuredOutputParser.from_response_schemas(response_schemas)\n"
   ]
  },
  {
   "cell_type": "code",
   "execution_count": 254,
   "metadata": {},
   "outputs": [],
   "source": [
    "format_instructions = output_parser.get_format_instructions()"
   ]
  },
  {
   "cell_type": "code",
   "execution_count": 255,
   "metadata": {},
   "outputs": [],
   "source": [
    "search_prompt = ChatPromptTemplate.from_messages(\n",
    "    [\n",
    "        (\n",
    "            \"system\",\n",
    "            \"\"\"You are a highly skilled assistant designed to search and answer user's general queries\n",
    "            Given a list of connected agents with their names and description, if required return the name of the next agent you require for your assistance as well as give an instruction for it.\n",
    "               List of agents : {Connected_agents}\\n\n",
    "               Format Instructions : {format_instructions}\\n\n",
    "               Previous Context : {current_output}\"\"\"\n",
    "\n",
    "        ),\n",
    "        (\"placeholder\", \"{chat_history}\"),\n",
    "        (\"human\", \"{input}\"),   \n",
    "        (\"placeholder\", \"{agent_scratchpad}\"),\n",
    "\n",
    "    ]\n",
    ")\n",
    "\n",
    "greeting_prompt = ChatPromptTemplate.from_messages(\n",
    "    [\n",
    "        (\n",
    "            \"system\",\n",
    "            \"\"\"You are a friendly AI that greets people warmly when they start a conversation and says goodbye appropriately when they mention leaving. \n",
    "\n",
    "                If someone says something about going away, respond with a proper goodbye.\n",
    "                If they just greet you or talk normally, respond with a friendly greeting.\n",
    "                Given a list of connected agents with their names and description, if required return the name of the next agent you require for your assistance as well as give an instruction for it.\n",
    "               List of agents : {Connected_agents} \\n\n",
    "               Format Instructions : {format_instructions}\\n\n",
    "               Previous Context : {current_output}\"\"\"\n",
    "        ),\n",
    "        (\"placeholder\", \"{chat_history}\"),\n",
    "        (\"human\", \"{input}\"),\n",
    "        (\"placeholder\", \"{agent_scratchpad}\"),\n",
    "    ]\n",
    ")\n",
    "\n",
    "\n",
    "math_prompt=ChatPromptTemplate.from_messages(\n",
    "    [\n",
    "        (\n",
    "            \"system\",\n",
    "            \"\"\"You are a highly skilled assistant with expertise in solving math problems. Ensure accurate calculations and provide clear explanations for mathematical concepts. Use the tavily_search_results_json tool for additional information if needed.\n",
    "                Given a list of connected agents with their names and description, if required return the name of the next agent you require for your assistance as well as give an instruction for it.\n",
    "               List of agents : {Connected_agents} \\n\n",
    "               Format Instructions : {format_instructions}\\n\n",
    "               Previous Context : {current_output}\"\"\"\n",
    "        ),\n",
    "        (\"placeholder\", \"{chat_history}\"),\n",
    "        (\"human\", \"{input}\"),\n",
    "        (\"placeholder\", \"{agent_scratchpad}\"),\n",
    "    ]\n",
    ")\n",
    "\n",
    "\n",
    "tool_prompt=ChatPromptTemplate.from_messages(\n",
    "    [\n",
    "        (\n",
    "            \"system\",\n",
    "            \"\"\"You are an AI assistant with access to powerful tools for calculations. Use these calculation tools when you need to perform precise calculations. \n",
    "               Given a list of connected agents with their names and description, if required return the name of the next agent you require for your assistance as well as give an instruction for it.\n",
    "               List of agents : {Connected_agents} \\n\n",
    "               Format Instructions : {format_instructions}\\n\n",
    "               Previous Context : {current_output}\"\"\"\n",
    "        ),\n",
    "        (\"placeholder\", \"{chat_history}\"),\n",
    "        (\"human\", \"{input}\"),\n",
    "        (\"placeholder\", \"{agent_scratchpad}\"),\n",
    "    ]\n",
    ")\n",
    "\n",
    "supervisor_prompt=ChatPromptTemplate.from_messages(\n",
    "    [\n",
    "        (\n",
    "            \"system\",\n",
    "            \"\"\"You are an AI assistant who is the first agent tasked to find the appropriate next agent given the task. \n",
    "               Given a list of connected agents with their names and description, if required return the name of the next agent you require for your assistance as well as give an instruction for it.\n",
    "               List of agents : {Connected_agents} \\n\n",
    "               Format Instructions : {format_instructions}\"\"\"\n",
    "        ),\n",
    "        (\"placeholder\", \"{chat_history}\"),\n",
    "        (\"human\", \"{input}\"),\n",
    "        (\"placeholder\", \"{agent_scratchpad}\"),\n",
    "    ]\n",
    ")"
   ]
  },
  {
   "cell_type": "code",
   "execution_count": 256,
   "metadata": {},
   "outputs": [],
   "source": [
    "import os\n",
    "import openai\n",
    "\n",
    "OPENAI_API_KEY = os.environ.get('OPENAI_API_KEY')\n",
    "openai.api_key = OPENAI_API_KEY\n",
    "os.environ[\"OPENAI_API_KEY\"] = OPENAI_API_KEY\n",
    "TAVILY_API_KEY = os.getenv('TAVILY_API_KEY')\n",
    "LANGSMITH_API_KEY = os.getenv('LANGSMITH_API_KEY')\n"
   ]
  },
  {
   "cell_type": "code",
   "execution_count": 257,
   "metadata": {},
   "outputs": [],
   "source": [
    "from langchain_openai import ChatOpenAI\n",
    "\n",
    "llm = ChatOpenAI(model=\"gpt-3.5-turbo-0125\", temperature=0, openai_api_key=OPENAI_API_KEY)"
   ]
  },
  {
   "cell_type": "code",
   "execution_count": 258,
   "metadata": {},
   "outputs": [],
   "source": [
    "search = TavilySearchResults(tavily_api_key = TAVILY_API_KEY)\n",
    "tools = [search]"
   ]
  },
  {
   "cell_type": "code",
   "execution_count": 259,
   "metadata": {},
   "outputs": [],
   "source": [
    "from langchain.agents import create_tool_calling_agent\n",
    "\n",
    "agent2 = create_tool_calling_agent(llm, tools, search_prompt)"
   ]
  },
  {
   "cell_type": "code",
   "execution_count": 260,
   "metadata": {},
   "outputs": [],
   "source": [
    "supervisor = create_tool_calling_agent(llm, tools, supervisor_prompt)"
   ]
  },
  {
   "cell_type": "code",
   "execution_count": 261,
   "metadata": {},
   "outputs": [],
   "source": [
    "agent21 = create_tool_calling_agent(llm, tools=tools, prompt= greeting_prompt)"
   ]
  },
  {
   "cell_type": "code",
   "execution_count": 262,
   "metadata": {},
   "outputs": [],
   "source": [
    "# Agent 1: Generally good at math questions\n",
    "agent1 = create_tool_calling_agent(\n",
    "    llm=llm,\n",
    "    tools=[search],\n",
    "    prompt=math_prompt,\n",
    ")"
   ]
  },
  {
   "cell_type": "code",
   "execution_count": 263,
   "metadata": {},
   "outputs": [],
   "source": [
    "agent11 = create_tool_calling_agent(\n",
    "    llm=llm,\n",
    "    tools=[search],\n",
    "    prompt=tool_prompt,\n",
    ")"
   ]
  },
  {
   "cell_type": "code",
   "execution_count": 277,
   "metadata": {},
   "outputs": [],
   "source": [
    "from langchain.agents import AgentExecutor\n",
    "\n",
    "Supervisor_executor = AgentExecutor(agent = supervisor, tools = [search], verbose = True)\n",
    "\n",
    "def run_query(query) :\n",
    "    response = Supervisor_executor.invoke({\"input\" : query, \"Connected_agents\" : get_connected_nodes(\"Supervisor\"), \"format_instructions\" : format_instructions})\n",
    "    response = output_parser.parse(response['output'])\n",
    "    # print(\"START\")\n",
    "    # print(response['next_agent'].lower())\n",
    "    # print('END')\n",
    "    while response[\"next_agent\"] != \"None\" :\n",
    "        query = response[\"next_task\"]\n",
    "        a = globals().get((response[\"next_agent\"]).lower())\n",
    "        agent_executor = AgentExecutor(agent=a, tools=tools, verbose=True)\n",
    "        response = agent_executor.invoke({\"input\": query, \"Connected_agents\" : get_connected_nodes(str(a)), \"format_instructions\" : format_instructions, \"current_output\" : response[\"current_output\"]})\n",
    "        response=output_parser.parse(response['output'])\n",
    "    return response[\"current_output\"]\n"
   ]
  },
  {
   "cell_type": "code",
   "execution_count": 278,
   "metadata": {},
   "outputs": [
    {
     "name": "stdout",
     "output_type": "stream",
     "text": [
      "\n",
      "\n",
      "\u001b[1m> Entering new AgentExecutor chain...\u001b[0m\n",
      "\u001b[32;1m\u001b[1;3m```json\n",
      "{\n",
      "\t\"current_output\": \"2\",\n",
      "\t\"next_agent\": \"Agent2\",\n",
      "\t\"next_task\": \"Perform a basic search to find interesting facts about the number 2.\"\n",
      "}\n",
      "```\u001b[0m\n",
      "\n",
      "\u001b[1m> Finished chain.\u001b[0m\n",
      "\n",
      "\n",
      "\u001b[1m> Entering new AgentExecutor chain...\u001b[0m\n",
      "\u001b[32;1m\u001b[1;3m\n",
      "Invoking: `tavily_search_results_json` with `{'query': 'interesting facts about the number 2'}`\n",
      "\n",
      "\n",
      "\u001b[0m\u001b[36;1m\u001b[1;3m[{'url': 'https://numeraly.com/about-the-number-2/', 'content': 'Fun and interesting facts about the number 2. The number 2 holds a unique position in the world of mathematics, as it is the only even prime number. This means that it is the smallest and the first even number that can only be divided by 1 and itself. Furthermore, the number 2 has a significant presence in various aspects of our lives.'}, {'url': 'https://www.thefactsite.com/number-2-facts/', 'content': \"Today let's take a look at 10 fun facts about the number 2. The number two is the first prime number. There are only eight prime numbers under 20, and two is the only even number. A prime number, by the way, is a number that can only be divided by itself and the number one. The number two is also either the third or fourth number in the ...\"}, {'url': 'https://trivialinx.com/funny/10-fascinating-facts-about-the-number-2/', 'content': \"Today, let's explore 10 interesting facts about the number 2. Contents. The Number 2 is the First Prime Number; ... The number two is prevalent in mythology, particularly in Roman mythology. The founding of Rome is linked to the story of two brothers named Romulus and Remus, who were raised by wolves after being thrown into the Tiber River as ...\"}, {'url': 'https://mysticalnumbers.com/number-2/', 'content': 'Meaning of Number 2. Many say, \"Good things come in pairs\". Two is a lucky number in the Far East. Two symbolizes partnership. Two is the number of balance, but also the number of conflict and opposition. Without the number two, the positive and negative could not exist. Two is also the number of division. The Pythagoreans thought the ...'}, {'url': 'https://kids.kiddle.co/2_(number)', 'content': 'Two is the framework of the binary system used in computers. The binary way is the simplest system of numbers in which natural numbers (0-9) can be written. Two also has the unique property that 2+2 = 2·2 = 2 2 and 2! + 2 = 2 2. Powers of two are important to computer science. The square root of two was the first known irrational number ...'}]\u001b[0m\u001b[32;1m\u001b[1;3m```json\n",
      "{\n",
      "\t\"current_output\": \"Fun and interesting facts about the number 2. The number 2 holds a unique position in the world of mathematics, as it is the only even prime number. This means that it is the smallest and the first even number that can only be divided by 1 and itself. Furthermore, the number 2 has a significant presence in various aspects of our lives.\",\n",
      "\t\"next_agent\": \"None\",\n",
      "\t\"next_task\": \"None\"\n",
      "}\n",
      "```\u001b[0m\n",
      "\n",
      "\u001b[1m> Finished chain.\u001b[0m\n"
     ]
    },
    {
     "data": {
      "text/plain": [
       "'Fun and interesting facts about the number 2. The number 2 holds a unique position in the world of mathematics, as it is the only even prime number. This means that it is the smallest and the first even number that can only be divided by 1 and itself. Furthermore, the number 2 has a significant presence in various aspects of our lives.'"
      ]
     },
     "execution_count": 278,
     "metadata": {},
     "output_type": "execute_result"
    }
   ],
   "source": [
    "run_query(\"what is 1+1 ? \")"
   ]
  }
 ],
 "metadata": {
  "kernelspec": {
   "display_name": "env",
   "language": "python",
   "name": "python3"
  },
  "language_info": {
   "codemirror_mode": {
    "name": "ipython",
    "version": 3
   },
   "file_extension": ".py",
   "mimetype": "text/x-python",
   "name": "python",
   "nbconvert_exporter": "python",
   "pygments_lexer": "ipython3",
   "version": "3.12.4"
  }
 },
 "nbformat": 4,
 "nbformat_minor": 2
}
