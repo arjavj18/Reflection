{
 "cells": [
  {
   "cell_type": "code",
   "execution_count": 2,
   "metadata": {},
   "outputs": [
    {
     "name": "stdout",
     "output_type": "stream",
     "text": [
      "Data imported successfully.\n"
     ]
    }
   ],
   "source": [
    "import yaml\n",
    "from py2neo import Graph\n",
    "from dotenv import load_dotenv\n",
    "import os\n",
    "\n",
    "# Load environment variables\n",
    "load_dotenv()\n",
    "neo4j_password = os.getenv('NEO4J_PASSWORD')\n",
    "\n",
    "# Load YAML data from file\n",
    "with open('agents.yaml', 'r') as file:\n",
    "    data = yaml.safe_load(file)\n",
    "\n",
    "# Connect to the Neo4j database\n",
    "graph = Graph(\"neo4j://localhost:7687\", auth=(\"neo4j\", neo4j_password))\n",
    "\n",
    "# Clear existing data (optional, be cautious with this)\n",
    "graph.run(\"MATCH (n) DETACH DELETE n\")\n",
    "\n",
    "# Create nodes and relationships based on the YAML file\n",
    "for node, properties in data.items():\n",
    "    name = properties['Name']\n",
    "    desc = properties['Desc']\n",
    "    parents = properties['parent']\n",
    "\n",
    "    # Create the node\n",
    "    query = f\"CREATE (n:{name} {{Name: '{name}', Desc: '{desc}'}})\"\n",
    "    graph.run(query)\n",
    "\n",
    "    # Handle parent relationships\n",
    "    if parents and parents != []:\n",
    "        for parent in parents:\n",
    "            # Create relationships with parent\n",
    "            parent_query = f\"MATCH (p:{parent}), (c:{name}) CREATE (p)-[:PARENT_OF]->(c)\"\n",
    "            graph.run(parent_query)\n",
    "            child_query = f\"MATCH (p:{parent}), (c:{name}) CREATE (c)-[:CHILD_OF]->(p)\"\n",
    "            graph.run(child_query)\n",
    "\n",
    "print(\"Data imported successfully.\")"
   ]
  },
  {
   "cell_type": "code",
   "execution_count": 26,
   "metadata": {},
   "outputs": [],
   "source": [
    "def get_connected_nodes(node_name):\n",
    "    # Define the Cypher query to find connected nodes and return both Name and Desc properties\n",
    "    query = \"\"\"\n",
    "    MATCH (n {Name: $node_name})-[:CHILD_OF|PARENT_OF]-(connected_nodes)\n",
    "    RETURN connected_nodes.Name AS name, connected_nodes.Desc AS desc\n",
    "    \"\"\"\n",
    "    \n",
    "    # Execute the query\n",
    "    results = graph.run(query, node_name=node_name)\n",
    "    \n",
    "    # Extract the Name and Desc of each connected node\n",
    "    connected_nodes_info = []\n",
    "    for record in results:\n",
    "        name = record[\"name\"]\n",
    "        desc = record[\"desc\"]\n",
    "        connected_nodes_info.append({\"Name\": name, \"Desc\": desc})\n",
    "    \n",
    "    return connected_nodes_info"
   ]
  },
  {
   "cell_type": "code",
   "execution_count": null,
   "metadata": {},
   "outputs": [],
   "source": [
    "from langchain.prompts import PromptTemplate\n",
    "\n",
    "choosing_template = \"\"\"\n",
    "You are an agent with multiple other AI agents for your assistance.\n",
    "Given a list of connected agents with their names and description, if required return the name of the next agent you require for your assistance as well as give an instruction for it.\n",
    "List of agents : {Connected_agents} \n",
    "{agent_scratchpad}\n",
    "AI: \n",
    "\"\"\"\n",
    "\n",
    "# Initialize the prompt template\n",
    "choosing_prompt = PromptTemplate(input_variables=[\"Connected_agents\"], template=choosing_template)"
   ]
  },
  {
   "cell_type": "markdown",
   "metadata": {},
   "source": []
  }
 ],
 "metadata": {
  "kernelspec": {
   "display_name": "env",
   "language": "python",
   "name": "python3"
  },
  "language_info": {
   "codemirror_mode": {
    "name": "ipython",
    "version": 3
   },
   "file_extension": ".py",
   "mimetype": "text/x-python",
   "name": "python",
   "nbconvert_exporter": "python",
   "pygments_lexer": "ipython3",
   "version": "3.12.4"
  }
 },
 "nbformat": 4,
 "nbformat_minor": 2
}
